{
 "cells": [
  {
   "cell_type": "markdown",
   "id": "b7b16bb4",
   "metadata": {},
   "source": [
    "# Prerequisites\n",
    "Import Library untuk pengolahan citra"
   ]
  },
  {
   "cell_type": "code",
   "execution_count": 2,
   "id": "b5fb8274",
   "metadata": {},
   "outputs": [],
   "source": [
    "from PIL import Image\n",
    "import matplotlib.pyplot as plt"
   ]
  },
  {
   "cell_type": "markdown",
   "id": "0a4c11ad",
   "metadata": {},
   "source": [
    "Load gambar "
   ]
  },
  {
   "cell_type": "code",
   "execution_count": 39,
   "id": "cdd52894",
   "metadata": {},
   "outputs": [],
   "source": [
    "img = Image.open(\"./images/baymax (1).jpg\").convert(\"RGB\")\n",
    "px = img.load()\n"
   ]
  },
  {
   "cell_type": "code",
   "execution_count": 45,
   "id": "7fc9731a",
   "metadata": {},
   "outputs": [
    {
     "name": "stdout",
     "output_type": "stream",
     "text": [
      "width : 128\n",
      "height : 128\n"
     ]
    }
   ],
   "source": [
    "print(f\"width : {img.width}\")\n",
    "print(f\"height : {img.height}\")\n"
   ]
  },
  {
   "cell_type": "markdown",
   "id": "b72c9df9",
   "metadata": {},
   "source": [
    "# Operasi Geometri pada Citra Digital\n",
    "\n",
    "## 1. Pergeseran (Translasi)\n",
    "\n",
    "**Rumus:**\n",
    "\n",
    "x' = x + s_x\n",
    "\n",
    "y' = y + s_y\n",
    "\n",
    "**Keterangan:**  \n",
    "- `s_x`, `s_y` → nilai pergeseran ke arah x (horizontal) dan y (vertikal).  \n",
    "- Digunakan untuk memindahkan citra ke posisi lain.  \n",
    "\n",
    "---"
   ]
  },
  {
   "cell_type": "code",
   "execution_count": null,
   "id": "3ba7b32b",
   "metadata": {},
   "outputs": [],
   "source": [
    "s_x, s_y = 100, 0\n",
    "\n",
    "# Buat kanvas baru yang lebih besar supaya hasil tidak terpotong\n",
    "Translasi = Image.new(\"RGB\", (img.width, img.height), (255, 255, 255))\n",
    "px_new = Translasi.load()\n",
    "\n",
    "\n",
    "# Pindahkan pixel sesuai rumus translasi\n",
    "for y in range(img.height):\n",
    "    for x in range(img.width):\n",
    "        new_x, new_y = x + s_x, y + s_y\n",
    "        if 0 <= new_x < img.width and 0 <= new_y < img.height:\n",
    "            px_new[x + s_x, y + s_y] = px[x, y]\n",
    "\n",
    "Translasi.show()"
   ]
  },
  {
   "cell_type": "markdown",
   "id": "4e80d1bc",
   "metadata": {},
   "source": [
    "## 2. Perbesaran\n",
    "\n",
    "**Rumus:**\n",
    "\n",
    "hb = h * sy;\n",
    "\n",
    "wb = w * sx;\n",
    "\n",
    "sx dan sy adalah nilai perbesaran\n",
    "\n",
    "yb = ((y-1) / sy) + 1;\n",
    "\n",
    "xb = ((x-1) / sx) + 1;\n",
    "\n",
    "**Keterangan:**  \n",
    "- `s_x`, `s_y` → nilai pergeseran ke arah x (horizontal) dan y (vertikal).  \n",
    "- Digunakan untuk memindahkan citra ke posisi lain.  \n",
    "\n",
    "---"
   ]
  },
  {
   "cell_type": "code",
   "execution_count": 52,
   "id": "f67205cf",
   "metadata": {},
   "outputs": [
    {
     "name": "stdout",
     "output_type": "stream",
     "text": [
      "(256, 256)\n"
     ]
    }
   ],
   "source": [
    "s_x, s_y = 2, 2\n",
    "\n",
    "new_w, new_h = img.width * s_x, img.height * s_y\n",
    "canvas = Image.new(\"RGB\", [new_w,new_h],(0,0,0))\n",
    "px_baru = canvas.load()\n",
    "\n",
    "for x in range(new_w):\n",
    "    for y in range(new_h):\n",
    "        src_x = int(x/s_x)\n",
    "        src_y = int(y/s_y)\n",
    "        px_baru[x,y] = px[src_x,src_y]\n",
    "\n",
    "print(canvas.size)\n",
    "canvas.show()"
   ]
  },
  {
   "cell_type": "markdown",
   "id": "bcb9faed",
   "metadata": {},
   "source": [
    "## 3. Pencerminan \n",
    "\n",
    "**Rumus:**\n",
    "\n",
    "Temukan xc (garis tengah citra)\n",
    "\n",
    "xc = (w – 1)/2\t*lebar citra dibagi 2\n",
    "\n",
    "xb – xc = - (x – xc)\n",
    "\n",
    "xb – xc = - x + xc\n",
    "\n",
    "xb = 2 xc - x\n",
    "\n",
    "\n",
    "**Keterangan:**  \n",
    "- \n",
    "\n",
    "---"
   ]
  },
  {
   "cell_type": "code",
   "execution_count": 56,
   "id": "b197d800",
   "metadata": {},
   "outputs": [],
   "source": [
    "img.show()\n",
    "center = (img.width -2)/2\n",
    "canvas = Image.new(\"RGB\",[img.width,img.height],(0,0,0))\n",
    "px_new = canvas.load()\n",
    "\n",
    "for x in range (img.width):\n",
    "    for y in range(img.height):\n",
    "        xb = 2 * center - x\n",
    "        px_new[x,y] = px[xb,y]\n",
    "        \n",
    "canvas.show()"
   ]
  }
 ],
 "metadata": {
  "kernelspec": {
   "display_name": "pcd_venv",
   "language": "python",
   "name": "python3"
  },
  "language_info": {
   "codemirror_mode": {
    "name": "ipython",
    "version": 3
   },
   "file_extension": ".py",
   "mimetype": "text/x-python",
   "name": "python",
   "nbconvert_exporter": "python",
   "pygments_lexer": "ipython3",
   "version": "3.13.4"
  }
 },
 "nbformat": 4,
 "nbformat_minor": 5
}
